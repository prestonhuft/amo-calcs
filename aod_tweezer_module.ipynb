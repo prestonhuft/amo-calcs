{
 "cells": [
  {
   "cell_type": "markdown",
   "id": "951c2b09-877c-42bf-9f61-b84d32eac96d",
   "metadata": {},
   "source": [
    "# A notebook for basic AOD calculations\n",
    "How many trap sites we can make, what the switching speed will be, etc. Mostly intended as a scratchpad"
   ]
  },
  {
   "cell_type": "code",
   "execution_count": 1,
   "id": "07c64e87-127f-4bf1-ab76-12dc5fa653b6",
   "metadata": {},
   "outputs": [],
   "source": [
    "import numpy as np\n",
    "import matplotlib.pyplot as plt\n",
    "\n",
    "# units\n",
    "from utils.units import *"
   ]
  },
  {
   "cell_type": "code",
   "execution_count": 17,
   "id": "eeae7d0a-85c4-41cf-a772-4e5ef542f150",
   "metadata": {
    "scrolled": true
   },
   "outputs": [],
   "source": [
    "class AOD_1D:\n",
    "    def __init__(self, clear_aperture, v, bandwidth):\n",
    "        self.clear_aperture = clear_aperture\n",
    "        self.v = v\n",
    "        self.bandwidth = bandwidth\n",
    "        self.t = self.clear_aperture/self.v\n",
    "        self.f_res = 1/self.t\n",
    "        self.max_spots = self.bandwidth / self.f_res"
   ]
  },
  {
   "cell_type": "code",
   "execution_count": 24,
   "id": "317048c0-67c5-4168-929b-ea83007f048a",
   "metadata": {},
   "outputs": [
    {
     "data": {
      "text/plain": [
       "576.9230769230769"
      ]
     },
     "execution_count": 24,
     "metadata": {},
     "output_type": "execute_result"
    }
   ],
   "source": [
    "dtsxy_400 = AOD_1D(7.5*mm, 650*m/s, 50*MHz) # AA optoelectronics\n",
    "dtsxy_400.max_spots"
   ]
  },
  {
   "cell_type": "code",
   "execution_count": 25,
   "id": "c6dd8863-4e8e-47a9-bb2f-3fa975dd9028",
   "metadata": {},
   "outputs": [
    {
     "data": {
      "text/plain": [
       "250.00000000000003"
      ]
     },
     "execution_count": 25,
     "metadata": {},
     "output_type": "execute_result"
    }
   ],
   "source": [
    "# if we only use half the aperture, as is the case for a Gaussian beam\n",
    "dtsxy_400 = AOD_1D(3.25*mm, 650*m/s, 50*MHz)\n",
    "dtsxy_400.max_spots"
   ]
  },
  {
   "cell_type": "code",
   "execution_count": 43,
   "id": "ba372288-4c3d-4a56-bdc3-6b92873db825",
   "metadata": {},
   "outputs": [
    {
     "data": {
      "text/plain": [
       "299.2307692307692"
      ]
     },
     "execution_count": 43,
     "metadata": {},
     "output_type": "execute_result"
    }
   ],
   "source": [
    "# if we use the beam size used in Gemini\n",
    "dtsxy_400 = AOD_1D(3.89*mm, 650*m/s, 50*MHz)\n",
    "dtsxy_400.max_spots"
   ]
  },
  {
   "cell_type": "code",
   "execution_count": 88,
   "id": "9a1475fa-96db-42a6-ab07-6a282153bbe2",
   "metadata": {},
   "outputs": [
    {
     "name": "stdout",
     "output_type": "stream",
     "text": [
      "diameter at AODs: 3.89 mm\n",
      "diameter in first array image plane: 41.25 um\n",
      "demagnification from here to atoms: 0.02\n",
      "spot dia. at atom plane: 0.87 um\n",
      "diameter in monitor image plane: 20.62 um\n"
     ]
    }
   ],
   "source": [
    "# Gemini AOD path - reproduce Liane's schematic numbers\n",
    "\n",
    "lmbda = 840*nm\n",
    "wfiber = 5.5*um/2 # input\n",
    "f0 = 20*mm # AODs in the front focal plane of this lens (a Fourier plane)\n",
    "w0 = lmbda*f0/(np.pi*wfiber) # I use the convention that the waist after lens fi is wi\n",
    "print(f\"diameter at AODs: {2*w0/mm:.2f} mm\")\n",
    "f1 = 150*mm\n",
    "w1 = lmbda*f1/(np.pi*w0)\n",
    "print(f\"diameter in first array image plane: {2*w1/um:.2f} um\")\n",
    "f2 = 200*mm\n",
    "f3 = 250*mm\n",
    "f4 = 250*mm\n",
    "f5 = 4.22*mm # the custom objective\n",
    "\n",
    "mag1 = f3/f2\n",
    "mag2 = f5/f4\n",
    "\n",
    "demag = mag1*mag2\n",
    "print(f\"demagnification from here to atoms: {demag:.2f}\")\n",
    "w5 = demag*w1\n",
    "print(f\"spot dia. at atom plane: {2*w5/um:.2f} um\")\n",
    "\n",
    "w_pickoff = lmbda*f4/(np.pi*mag1*w1)\n",
    "# 2*lmbda*200*mm/(np.pi*w_pickoff) # should be ~ 41.3*um\n",
    "w_monitor = lmbda*100*mm/(np.pi*w_pickoff)\n",
    "print(f\"diameter in monitor image plane: {2*w_monitor/um:.2f} um\")"
   ]
  },
  {
   "cell_type": "code",
   "execution_count": 84,
   "id": "550d9a41-353b-40e4-a634-36fbe0fa8182",
   "metadata": {},
   "outputs": [
    {
     "data": {
      "text/plain": [
       "\u001b[0;31mSignature:\u001b[0m       \u001b[0mnp\u001b[0m\u001b[0;34m.\u001b[0m\u001b[0misclose\u001b[0m\u001b[0;34m(\u001b[0m\u001b[0ma\u001b[0m\u001b[0;34m,\u001b[0m \u001b[0mb\u001b[0m\u001b[0;34m,\u001b[0m \u001b[0mrtol\u001b[0m\u001b[0;34m=\u001b[0m\u001b[0;36m1e-05\u001b[0m\u001b[0;34m,\u001b[0m \u001b[0matol\u001b[0m\u001b[0;34m=\u001b[0m\u001b[0;36m1e-08\u001b[0m\u001b[0;34m,\u001b[0m \u001b[0mequal_nan\u001b[0m\u001b[0;34m=\u001b[0m\u001b[0;32mFalse\u001b[0m\u001b[0;34m)\u001b[0m\u001b[0;34m\u001b[0m\u001b[0;34m\u001b[0m\u001b[0m\n",
       "\u001b[0;31mCall signature:\u001b[0m  \u001b[0mnp\u001b[0m\u001b[0;34m.\u001b[0m\u001b[0misclose\u001b[0m\u001b[0;34m(\u001b[0m\u001b[0;34m*\u001b[0m\u001b[0margs\u001b[0m\u001b[0;34m,\u001b[0m \u001b[0;34m**\u001b[0m\u001b[0mkwargs\u001b[0m\u001b[0;34m)\u001b[0m\u001b[0;34m\u001b[0m\u001b[0;34m\u001b[0m\u001b[0m\n",
       "\u001b[0;31mType:\u001b[0m            _ArrayFunctionDispatcher\n",
       "\u001b[0;31mString form:\u001b[0m     <function isclose at 0x105f5cea0>\n",
       "\u001b[0;31mFile:\u001b[0m            ~/.local/share/virtualenvs/AOD-calcs-pTCmdcV5/lib/python3.13/site-packages/numpy/_core/numeric.py\n",
       "\u001b[0;31mDocstring:\u001b[0m      \n",
       "Returns a boolean array where two arrays are element-wise equal within a\n",
       "tolerance.\n",
       "\n",
       "The tolerance values are positive, typically very small numbers.  The\n",
       "relative difference (`rtol` * abs(`b`)) and the absolute difference\n",
       "`atol` are added together to compare against the absolute difference\n",
       "between `a` and `b`.\n",
       "\n",
       ".. warning:: The default `atol` is not appropriate for comparing numbers\n",
       "             with magnitudes much smaller than one (see Notes).\n",
       "\n",
       "Parameters\n",
       "----------\n",
       "a, b : array_like\n",
       "    Input arrays to compare.\n",
       "rtol : array_like\n",
       "    The relative tolerance parameter (see Notes).\n",
       "atol : array_like\n",
       "    The absolute tolerance parameter (see Notes).\n",
       "equal_nan : bool\n",
       "    Whether to compare NaN's as equal.  If True, NaN's in `a` will be\n",
       "    considered equal to NaN's in `b` in the output array.\n",
       "\n",
       "Returns\n",
       "-------\n",
       "y : array_like\n",
       "    Returns a boolean array of where `a` and `b` are equal within the\n",
       "    given tolerance. If both `a` and `b` are scalars, returns a single\n",
       "    boolean value.\n",
       "\n",
       "See Also\n",
       "--------\n",
       "allclose\n",
       "math.isclose\n",
       "\n",
       "Notes\n",
       "-----\n",
       "For finite values, isclose uses the following equation to test whether\n",
       "two floating point values are equivalent.::\n",
       "\n",
       " absolute(a - b) <= (atol + rtol * absolute(b))\n",
       "\n",
       "Unlike the built-in `math.isclose`, the above equation is not symmetric\n",
       "in `a` and `b` -- it assumes `b` is the reference value -- so that\n",
       "`isclose(a, b)` might be different from `isclose(b, a)`.\n",
       "\n",
       "The default value of `atol` is not appropriate when the reference value\n",
       "`b` has magnitude smaller than one. For example, it is unlikely that\n",
       "``a = 1e-9`` and ``b = 2e-9`` should be considered \"close\", yet\n",
       "``isclose(1e-9, 2e-9)`` is ``True`` with default settings. Be sure\n",
       "to select `atol` for the use case at hand, especially for defining the\n",
       "threshold below which a non-zero value in `a` will be considered \"close\"\n",
       "to a very small or zero value in `b`.\n",
       "\n",
       "`isclose` is not defined for non-numeric data types.\n",
       ":class:`bool` is considered a numeric data-type for this purpose.\n",
       "\n",
       "Examples\n",
       "--------\n",
       ">>> import numpy as np\n",
       ">>> np.isclose([1e10,1e-7], [1.00001e10,1e-8])\n",
       "array([ True, False])\n",
       "\n",
       ">>> np.isclose([1e10,1e-8], [1.00001e10,1e-9])\n",
       "array([ True, True])\n",
       "\n",
       ">>> np.isclose([1e10,1e-8], [1.0001e10,1e-9])\n",
       "array([False,  True])\n",
       "\n",
       ">>> np.isclose([1.0, np.nan], [1.0, np.nan])\n",
       "array([ True, False])\n",
       "\n",
       ">>> np.isclose([1.0, np.nan], [1.0, np.nan], equal_nan=True)\n",
       "array([ True, True])\n",
       "\n",
       ">>> np.isclose([1e-8, 1e-7], [0.0, 0.0])\n",
       "array([ True, False])\n",
       "\n",
       ">>> np.isclose([1e-100, 1e-7], [0.0, 0.0], atol=0.0)\n",
       "array([False, False])\n",
       "\n",
       ">>> np.isclose([1e-10, 1e-10], [1e-20, 0.0])\n",
       "array([ True,  True])\n",
       "\n",
       ">>> np.isclose([1e-10, 1e-10], [1e-20, 0.999999e-10], atol=0.0)\n",
       "array([False,  True])\n",
       "\u001b[0;31mClass docstring:\u001b[0m\n",
       "Class to wrap functions with checks for __array_function__ overrides.\n",
       "\n",
       "All arguments are required, and can only be passed by position.\n",
       "\n",
       "Parameters\n",
       "----------\n",
       "dispatcher : function or None\n",
       "    The dispatcher function that returns a single sequence-like object\n",
       "    of all arguments relevant.  It must have the same signature (except\n",
       "    the default values) as the actual implementation.\n",
       "    If ``None``, this is a ``like=`` dispatcher and the\n",
       "    ``_ArrayFunctionDispatcher`` must be called with ``like`` as the\n",
       "    first (additional and positional) argument.\n",
       "implementation : function\n",
       "    Function that implements the operation on NumPy arrays without\n",
       "    overrides.  Arguments passed calling the ``_ArrayFunctionDispatcher``\n",
       "    will be forwarded to this (and the ``dispatcher``) as if using\n",
       "    ``*args, **kwargs``.\n",
       "\n",
       "Attributes\n",
       "----------\n",
       "_implementation : function\n",
       "    The original implementation passed in."
      ]
     },
     "metadata": {},
     "output_type": "display_data"
    }
   ],
   "source": [
    "# Camera sensor dimensions (Teledyne FLIR BFS-U3-122S6M-C)"
   ]
  },
  {
   "cell_type": "code",
   "execution_count": 54,
   "id": "9d1075b2-df17-48c8-ad7e-f596c824c991",
   "metadata": {},
   "outputs": [
    {
     "name": "stdout",
     "output_type": "stream",
     "text": [
      "number of sites with period 3.0 um: 261\n",
      "max number of sites is 299\n"
     ]
    }
   ],
   "source": [
    "# if we want a few microns between sites, how many sites can we do?\n",
    "\n",
    "# max measured deflection range (see https://www.notion.so/Test-new-AODs-different-beam-sizes-4f-image-AODs-b946c5d0de3042109b6e8378fd812446#3f572e2beb3f484f9cfe57d606d58010)\n",
    "deflection = 31*mrad # range is +/- this\n",
    "\n",
    "period = 3*um # at atoms\n",
    "fractional_period = 5*um/w5\n",
    "\n",
    "# how many sites would we get with this spacing?\n",
    "print(f\"number of sites with period {period/um:.1f} um: {int(2*np.sin(deflection)/(fractional_period*w1))}\")\n",
    "\n",
    "dtsxy_400 = AOD_1D(2*w0, 650*m/s, 50*MHz)\n",
    "print(f\"max number of sites is {int(dtsxy_400.max_spots)}\")"
   ]
  },
  {
   "cell_type": "code",
   "execution_count": 41,
   "id": "b2910d54-b764-466c-b71f-45dd3a3ec480",
   "metadata": {},
   "outputs": [
    {
     "data": {
      "text/plain": [
       "298.752"
      ]
     },
     "execution_count": 41,
     "metadata": {},
     "output_type": "execute_result"
    }
   ],
   "source": [
    "(3.89/7.5)*576"
   ]
  },
  {
   "cell_type": "code",
   "execution_count": 57,
   "id": "0f1dfb02-65d9-4e0d-b308-b1dcd214baba",
   "metadata": {},
   "outputs": [
    {
     "data": {
      "text/plain": [
       "23.69668246445497"
      ]
     },
     "execution_count": 57,
     "metadata": {},
     "output_type": "execute_result"
    }
   ],
   "source": [
    "100*fractional_period*w1/mm"
   ]
  },
  {
   "cell_type": "code",
   "execution_count": 71,
   "id": "1a4c9ef1-fb7e-4404-b48c-4a0093715fd0",
   "metadata": {},
   "outputs": [
    {
     "data": {
      "text/plain": [
       "np.float64(9.752223565578149)"
      ]
     },
     "execution_count": 71,
     "metadata": {},
     "output_type": "execute_result"
    }
   ],
   "source": [
    "th_perp = 12*np.pi/180\n",
    "dia_perp = 2.05 # in mm\n",
    "0.5*dia_perp/np.tan(th_perp/2)"
   ]
  },
  {
   "cell_type": "code",
   "execution_count": 63,
   "id": "71ffeda9-608b-4e2e-8f13-0a00ca15e63e",
   "metadata": {},
   "outputs": [
    {
     "data": {
      "text/plain": [
       "np.float64(0.02266480683920936)"
      ]
     },
     "execution_count": 63,
     "metadata": {},
     "output_type": "execute_result"
    }
   ],
   "source": [
    "f = 9.6\n",
    "th_par = 9\n",
    "f*np.tan(th_perp/2)/(f*np.tan(th_par/2))"
   ]
  },
  {
   "cell_type": "code",
   "execution_count": 77,
   "id": "04488c96-f8c8-48fa-b7d1-7b91a2cd7495",
   "metadata": {},
   "outputs": [
    {
     "data": {
      "text/plain": [
       "9.349978135683909"
      ]
     },
     "execution_count": 77,
     "metadata": {},
     "output_type": "execute_result"
    }
   ],
   "source": [
    "1*2.5e-3*np.pi/(lmbda*1e3)"
   ]
  },
  {
   "cell_type": "code",
   "execution_count": 78,
   "id": "776ccd29-e151-41bd-81af-2437ffd7eac6",
   "metadata": {},
   "outputs": [
    {
     "data": {
      "text/plain": [
       "0.00084"
      ]
     },
     "execution_count": 78,
     "metadata": {},
     "output_type": "execute_result"
    }
   ],
   "source": [
    "lmbda*1e3"
   ]
  },
  {
   "cell_type": "code",
   "execution_count": null,
   "id": "1d4e40be-90ef-43b6-8d9e-8579b462f6ee",
   "metadata": {},
   "outputs": [],
   "source": []
  }
 ],
 "metadata": {
  "kernelspec": {
   "display_name": "Python 3 (ipykernel)",
   "language": "python",
   "name": "python3"
  },
  "language_info": {
   "codemirror_mode": {
    "name": "ipython",
    "version": 3
   },
   "file_extension": ".py",
   "mimetype": "text/x-python",
   "name": "python",
   "nbconvert_exporter": "python",
   "pygments_lexer": "ipython3",
   "version": "3.13.1"
  }
 },
 "nbformat": 4,
 "nbformat_minor": 5
}
