{
 "cells": [
  {
   "cell_type": "markdown",
   "id": "a49ad2e3-dd43-46e0-bbfb-e8e0c39c26bf",
   "metadata": {},
   "source": [
    "https://www.axiomoptics.com/wp-content/uploads/2021/09/Alvium_SWIR-Flyer_EN.pdf"
   ]
  },
  {
   "cell_type": "code",
   "execution_count": 4,
   "id": "5a3d7ccd-83ea-4952-9b43-676fccaa3eb9",
   "metadata": {},
   "outputs": [],
   "source": [
    "import numpy as np\n",
    "from units import *"
   ]
  },
  {
   "cell_type": "code",
   "execution_count": 6,
   "id": "766854e6-582f-4833-968f-d21caaac4f0e",
   "metadata": {},
   "outputs": [
    {
     "name": "stdout",
     "output_type": "stream",
     "text": [
      "horiz x vertical: 3.28 x 2.5999999999999996 (mm)\n"
     ]
    }
   ],
   "source": [
    "# camera array size (Alvium 1800 U-030)\n",
    "pix = 5*um\n",
    "print(\"horiz x vertical:\",pix*656/mm, \"x\", pix*520/mm, \"(mm)\")"
   ]
  },
  {
   "cell_type": "markdown",
   "id": "be340149-e459-4970-b195-5584e3166220",
   "metadata": {},
   "source": [
    "## top hat"
   ]
  },
  {
   "cell_type": "code",
   "execution_count": 38,
   "id": "fb876bc7-7e0a-4495-b0eb-e10a01f77561",
   "metadata": {},
   "outputs": [
    {
     "data": {
      "text/plain": [
       "19.46783263900064"
      ]
     },
     "execution_count": 38,
     "metadata": {},
     "output_type": "execute_result"
    }
   ],
   "source": [
    "# this is the size of a diffraction limited beam, not the smallest top hat width\n",
    "efl = 250*mm\n",
    "lmbda = 1529*nm\n",
    "d = 25*mm # input beam dia - check this in CAD\n",
    "DL = 4*efl*lmbda/(np.pi*d) # output spot full width\n",
    "DL/um # diffraction limited beam size"
   ]
  },
  {
   "cell_type": "code",
   "execution_count": 39,
   "id": "732a9a45-8de7-4b64-a228-9069a3e9f3a3",
   "metadata": {},
   "outputs": [
    {
     "data": {
      "text/plain": [
       "5.136678635692924"
      ]
     },
     "execution_count": 39,
     "metadata": {},
     "output_type": "execute_result"
    }
   ],
   "source": [
    "# top hat quality factor\n",
    "TH = 100*um\n",
    "TH/DL"
   ]
  },
  {
   "cell_type": "code",
   "execution_count": null,
   "id": "79a46838-2135-4ad9-b54b-46d12193c016",
   "metadata": {},
   "outputs": [],
   "source": []
  }
 ],
 "metadata": {
  "kernelspec": {
   "display_name": "Python 3 (ipykernel)",
   "language": "python",
   "name": "python3"
  },
  "language_info": {
   "codemirror_mode": {
    "name": "ipython",
    "version": 3
   },
   "file_extension": ".py",
   "mimetype": "text/x-python",
   "name": "python",
   "nbconvert_exporter": "python",
   "pygments_lexer": "ipython3",
   "version": "3.13.1"
  }
 },
 "nbformat": 4,
 "nbformat_minor": 5
}
