{
 "cells": [
  {
   "cell_type": "code",
   "execution_count": 4,
   "id": "c7765e8d-497d-4fdf-a654-8053f80d4afc",
   "metadata": {},
   "outputs": [],
   "source": [
    "import numpy as np"
   ]
  },
  {
   "cell_type": "code",
   "execution_count": 6,
   "id": "5240ce4b-c81d-43fb-8540-bd557e12e929",
   "metadata": {},
   "outputs": [],
   "source": [
    "# scan var scratchpad -- testing some of Kai's code\n",
    "\n",
    "var_values = {\"var1\":[1,2,3],\"var2\":[10,20,30]}\n",
    "\n",
    "\n",
    "\n",
    "varname_list = []\n",
    "varvalues_list = []\n",
    "\n",
    "for varname, varvalues in var_values.items():\n",
    "\n",
    "    varname_list.append(varname)\n",
    "    varvalues_list.append(np.array(varvalues))\n",
    "\n",
    "    combinations = np.meshgrid(*varvalues_list)\n",
    "    values = [np.ndarray.flatten(x) for x in combinations]\n",
    "    num_iterations = np.shape(values)[1]"
   ]
  },
  {
   "cell_type": "code",
   "execution_count": 7,
   "id": "0669b1f1-5306-44cd-bf3e-3b7e45c52eee",
   "metadata": {},
   "outputs": [
    {
     "data": {
      "text/plain": [
       "['var1', 'var2']"
      ]
     },
     "execution_count": 7,
     "metadata": {},
     "output_type": "execute_result"
    }
   ],
   "source": [
    "varname_list"
   ]
  },
  {
   "cell_type": "code",
   "execution_count": 8,
   "id": "b6572047-cf52-4266-8d28-d63d47e1705f",
   "metadata": {},
   "outputs": [
    {
     "data": {
      "text/plain": [
       "[array([1, 2, 3]), array([10, 20, 30])]"
      ]
     },
     "execution_count": 8,
     "metadata": {},
     "output_type": "execute_result"
    }
   ],
   "source": [
    "varvalues_list"
   ]
  },
  {
   "cell_type": "code",
   "execution_count": 9,
   "id": "18db6a0e-66d1-4306-9c0f-546b22ebaedc",
   "metadata": {},
   "outputs": [
    {
     "data": {
      "text/plain": [
       "(array([[1, 2, 3],\n",
       "        [1, 2, 3],\n",
       "        [1, 2, 3]]),\n",
       " array([[10, 10, 10],\n",
       "        [20, 20, 20],\n",
       "        [30, 30, 30]]))"
      ]
     },
     "execution_count": 9,
     "metadata": {},
     "output_type": "execute_result"
    }
   ],
   "source": [
    "combinations"
   ]
  },
  {
   "cell_type": "code",
   "execution_count": 10,
   "id": "58a3d8c5-b150-41ff-a3fd-1811b13d96d7",
   "metadata": {},
   "outputs": [
    {
     "data": {
      "text/plain": [
       "[array([1, 2, 3, 1, 2, 3, 1, 2, 3]),\n",
       " array([10, 10, 10, 20, 20, 20, 30, 30, 30])]"
      ]
     },
     "execution_count": 10,
     "metadata": {},
     "output_type": "execute_result"
    }
   ],
   "source": [
    "values"
   ]
  },
  {
   "cell_type": "code",
   "execution_count": null,
   "id": "e1382daf-9050-41fb-ac52-787202fb00bc",
   "metadata": {},
   "outputs": [],
   "source": []
  }
 ],
 "metadata": {
  "kernelspec": {
   "display_name": "Python 3 (ipykernel)",
   "language": "python",
   "name": "python3"
  },
  "language_info": {
   "codemirror_mode": {
    "name": "ipython",
    "version": 3
   },
   "file_extension": ".py",
   "mimetype": "text/x-python",
   "name": "python",
   "nbconvert_exporter": "python",
   "pygments_lexer": "ipython3",
   "version": "3.13.1"
  }
 },
 "nbformat": 4,
 "nbformat_minor": 5
}
